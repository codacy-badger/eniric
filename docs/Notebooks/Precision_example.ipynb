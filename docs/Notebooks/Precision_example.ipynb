{
 "cells": [
  {
   "cell_type": "code",
   "execution_count": 1,
   "metadata": {},
   "outputs": [],
   "source": [
    "# Example how to calculate the RV precision"
   ]
  },
  {
   "cell_type": "code",
   "execution_count": 24,
   "metadata": {
    "scrolled": true
   },
   "outputs": [
    {
     "ename": "ImportError",
     "evalue": "cannot import name 'resample'",
     "output_type": "error",
     "traceback": [
      "\u001b[0;31m---------------------------------------------------------------------------\u001b[0m",
      "\u001b[0;31mImportError\u001b[0m                               Traceback (most recent call last)",
      "\u001b[0;32m<ipython-input-24-1ef85a5e44fd>\u001b[0m in \u001b[0;36m<module>\u001b[0;34m()\u001b[0m\n\u001b[1;32m      1\u001b[0m \u001b[0;32mfrom\u001b[0m \u001b[0meniric\u001b[0m \u001b[0;32mimport\u001b[0m \u001b[0mQcalculator\u001b[0m\u001b[0;34m\u001b[0m\u001b[0m\n\u001b[1;32m      2\u001b[0m \u001b[0;32mimport\u001b[0m \u001b[0mmatplotlib\u001b[0m\u001b[0;34m.\u001b[0m\u001b[0mpyplot\u001b[0m \u001b[0;32mas\u001b[0m \u001b[0mplt\u001b[0m\u001b[0;34m\u001b[0m\u001b[0m\n\u001b[0;32m----> 3\u001b[0;31m \u001b[0;32mfrom\u001b[0m \u001b[0meniric\u001b[0m\u001b[0;34m.\u001b[0m\u001b[0mresample\u001b[0m \u001b[0;32mimport\u001b[0m \u001b[0mresample\u001b[0m\u001b[0;34m\u001b[0m\u001b[0m\n\u001b[0m",
      "\u001b[0;31mImportError\u001b[0m: cannot import name 'resample'"
     ]
    }
   ],
   "source": [
    "from eniric import Qcalculator\n",
    "import matplotlib.pyplot as plt\n",
    "from eniric.resample import resample\n"
   ]
  },
  {
   "cell_type": "code",
   "execution_count": 25,
   "metadata": {},
   "outputs": [
    {
     "name": "stdout",
     "output_type": "stream",
     "text": [
      "1024\n"
     ]
    }
   ],
   "source": [
    "# Load a spectrum\n",
    "from astropy.io import fits\n",
    "data = fits.getdata(\"/home/jneal/.handy_spectra/HD30501-1-mixavg-tellcorr_1_bervcorr.fits\")\n",
    "wav = data[\"Wavelength\"]\n",
    "flux = data[\"Flux\"]\n",
    "# wav = fits.getdata() / 10\n",
    "# flux = fits.getdata()\n",
    "\n",
    "print(len(flux))"
   ]
  },
  {
   "cell_type": "code",
   "execution_count": 26,
   "metadata": {},
   "outputs": [
    {
     "name": "stdout",
     "output_type": "stream",
     "text": [
      "1024\n"
     ]
    }
   ],
   "source": [
    "# Select a section of wavelength\n",
    "xmin = 2000  # nm\n",
    "xmax = 3000  # nm\n",
    "mask = (wav>=xmin) & (wav<=xmax)\n",
    "wav=wav[mask]\n",
    "flux=flux[mask]\n",
    "\n",
    "print(len(flux))"
   ]
  },
  {
   "cell_type": "code",
   "execution_count": 27,
   "metadata": {},
   "outputs": [
    {
     "name": "stdout",
     "output_type": "stream",
     "text": [
      "RV precision between 2000-3000 = 7409.261969559676 m / s\n"
     ]
    }
   ],
   "source": [
    "precision = Qcalculator.RVprec_calc(wavelength=wav, flux=flux)\n",
    "\n",
    "print(f\"RV precision between {xmin}-{xmax} = {precision}\")"
   ]
  },
  {
   "cell_type": "code",
   "execution_count": 30,
   "metadata": {},
   "outputs": [
    {
     "data": {
      "image/png": "[encoded data removed]",
      "text/plain": [
       "<matplotlib.figure.Figure at 0xaa4168ec>"
      ]
     },
     "metadata": {},
     "output_type": "display_data"
    }
   ],
   "source": [
    "# The precision needs to be scaled to the relative SNR.\n",
    "scales = [0.1, 0.2, 0.5, 2, 5, 10]\n",
    "prec = [Qcalculator.RVprec_calc(wavelength=wav, flux=flux * scale).value for scale in scales]\n",
    "\n",
    "plt.plot(scales, prec)\n",
    "plt.xlabel(\"Flux scales\")\n",
    "plt.ylabel(\"Precision (m/s)\")\n",
    "plt.show()\n"
   ]
  },
  {
   "cell_type": "code",
   "execution_count": null,
   "metadata": {},
   "outputs": [],
   "source": []
  }
 ],
 "metadata": {
  "kernelspec": {
   "display_name": "Python [conda env:eniric]",
   "language": "python",
   "name": "conda-env-eniric-py"
  },
  "language_info": {
   "codemirror_mode": {
    "name": "ipython",
    "version": 3
   },
   "file_extension": ".py",
   "mimetype": "text/x-python",
   "name": "python",
   "nbconvert_exporter": "python",
   "pygments_lexer": "ipython3",
   "version": "3.6.4"
  }
 },
 "nbformat": 4,
 "nbformat_minor": 2
}
