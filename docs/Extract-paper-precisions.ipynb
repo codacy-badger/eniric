{
 "cells": [
  {
   "cell_type": "code",
   "execution_count": 6,
   "metadata": {
    "collapsed": true
   },
   "outputs": [],
   "source": [
    "# Test tabular"
   ]
  },
  {
   "cell_type": "code",
   "execution_count": 12,
   "metadata": {
    "collapsed": false
   },
   "outputs": [
    {
     "name": "stdout",
     "output_type": "stream",
     "text": [
      "['/opt/java/jre1.7.0_79/bin', '/opt/java/jre1.7.0_79/bin', '/opt/java/jre1.7.0_79/bin', '/opt/java/jre1.7.0_79/bin', '/opt/java/jre1.7.0_79/bin', '', '/home/jneal/Phd/Codes/Phd-codes/TelluricSpectra', '/home/jneal/Phd/Codes/Repos/astro_scripts', '/home/jneal/Phd/Codes/Phd-codes/WavelengthCalibration/XCorr-WaveCal', '/home/jneal/Phd/Codes/Phd-codes/WavelengthCalibration', '/home/jneal/Phd/Codes/UsableScripts', '/home/jneal/Phd/Codes/Repos/Gooey', '/home/jneal/Phd/Codes/UsefulModules/Convolution', '/home/jneal/Phd/Codes/UsefulModules', '/home/jneal/Phd/Codes/eniric/docs', '/home/jneal/anaconda3/envs/eniric/lib/python35.zip', '/home/jneal/anaconda3/envs/eniric/lib/python3.5', '/home/jneal/anaconda3/envs/eniric/lib/python3.5/plat-linux', '/home/jneal/anaconda3/envs/eniric/lib/python3.5/lib-dynload', '/home/jneal/.local/lib/python3.5/site-packages', '/home/jneal/anaconda3/envs/eniric/lib/python3.5/site-packages', '/home/jneal/Phd/Codes/eniric', '/home/jneal/anaconda3/envs/eniric/lib/python3.5/site-packages/pytest-3.0.5-py3.5.egg', '/home/jneal/anaconda3/envs/eniric/lib/python3.5/site-packages/py-1.4.31-py3.5.egg', '/home/jneal/anaconda3/envs/eniric/lib/python3.5/site-packages/IPython/extensions', '/home/jneal/.ipython']\n"
     ]
    }
   ],
   "source": [
    "from tabula import read_pdf, read_pdf_table\n",
    "import tabula\n",
    "# Tabular needs java 6 or 7! \n",
    "# This is a hack that will not work everywhere. \n",
    "# I included it becasue my system java is version 9.\n",
    "# You will need to point to own loaction of java. \n",
    "# https://stackoverflow.com/questions/31414041/how-to-prepend-a-path-to-sys-path-in-python\n",
    "import sys\n",
    "import sys\n",
    "b = sys.path\n",
    "sys.path = ['/opt/java/jre1.7.0_79/bin'] + b\n",
    "print(sys.path)\n",
    "import pandas as pd"
   ]
  },
  {
   "cell_type": "code",
   "execution_count": 15,
   "metadata": {
    "collapsed": false
   },
   "outputs": [],
   "source": [
    "paper = \"/home/jneal/Phd/Codes/eniric/docs/1511.07468v1.pdf\"\n",
    "paper_home = \"/home/jneal/Phd/Codes/eniric2017/docs/1511.07468v1.pdf\"\n",
    "pages = [15, 16, 17]\n",
    "\n",
    "try:\n",
    "    df = read_pdf_table(paper, pages=pages, guess=True)\n",
    "except:\n",
    "    df = read_pdf_table(paper_home, pages=pages, guess=True)\n",
    "\n",
    "# df.head()"
   ]
  },
  {
   "cell_type": "code",
   "execution_count": 16,
   "metadata": {
    "collapsed": false
   },
   "outputs": [
    {
     "data": {
      "text/html": [
       "<div>\n",
       "<table border=\"1\" class=\"dataframe\">\n",
       "  <thead>\n",
       "    <tr style=\"text-align: right;\">\n",
       "      <th></th>\n",
       "      <th>Simulation</th>\n",
       "      <th>σRV (Cond. 1)</th>\n",
       "      <th>σRV (Cond. 2)</th>\n",
       "      <th>σRV (Cond. 3)</th>\n",
       "    </tr>\n",
       "  </thead>\n",
       "  <tbody>\n",
       "    <tr>\n",
       "      <th>1</th>\n",
       "      <td>M0-Z-1.0-60k</td>\n",
       "      <td>8.9</td>\n",
       "      <td>26.1</td>\n",
       "      <td>9.3</td>\n",
       "    </tr>\n",
       "    <tr>\n",
       "      <th>2</th>\n",
       "      <td>M0-Z-1.0-80k</td>\n",
       "      <td>6.0</td>\n",
       "      <td>17.1</td>\n",
       "      <td>6.2</td>\n",
       "    </tr>\n",
       "    <tr>\n",
       "      <th>3</th>\n",
       "      <td>M0-Z-1.0-100k</td>\n",
       "      <td>4.5</td>\n",
       "      <td>12.8</td>\n",
       "      <td>4.6</td>\n",
       "    </tr>\n",
       "    <tr>\n",
       "      <th>4</th>\n",
       "      <td>M0-Z-5.0-60k</td>\n",
       "      <td>13.6</td>\n",
       "      <td>38.9</td>\n",
       "      <td>14.0</td>\n",
       "    </tr>\n",
       "    <tr>\n",
       "      <th>5</th>\n",
       "      <td>M0-Z-5.0-80k</td>\n",
       "      <td>10.6</td>\n",
       "      <td>30.5</td>\n",
       "      <td>10.9</td>\n",
       "    </tr>\n",
       "  </tbody>\n",
       "</table>\n",
       "</div>"
      ],
      "text/plain": [
       "      Simulation σRV (Cond. 1) σRV (Cond. 2) σRV (Cond. 3)\n",
       "1   M0-Z-1.0-60k           8.9          26.1           9.3\n",
       "2   M0-Z-1.0-80k           6.0          17.1           6.2\n",
       "3  M0-Z-1.0-100k           4.5          12.8           4.6\n",
       "4   M0-Z-5.0-60k          13.6          38.9          14.0\n",
       "5   M0-Z-5.0-80k          10.6          30.5          10.9"
      ]
     },
     "execution_count": 16,
     "metadata": {},
     "output_type": "execute_result"
    }
   ],
   "source": [
    "#df2 = read_pdf(\"https://github.com/tabulapdf/tabula-java/raw/master/src/test/resources/technology/tabula/arabic.pdf\")\n",
    "#print(df[1:])\n",
    "\n",
    "# remove row 0\n",
    "df2 = df[1:]\n",
    "df2.head()    # Removes the units that are in the second line."
   ]
  },
  {
   "cell_type": "code",
   "execution_count": 17,
   "metadata": {
    "collapsed": false
   },
   "outputs": [
    {
     "data": {
      "text/plain": [
       "['Simulation',\n",
       " 'σRV (Cond. 1)[m/s]',\n",
       " 'σRV (Cond. 2)[m/s]',\n",
       " 'σRV (Cond. 3)[m/s]']"
      ]
     },
     "execution_count": 17,
     "metadata": {},
     "output_type": "execute_result"
    }
   ],
   "source": [
    "header = df2.columns\n",
    "header[1]\n",
    "new_header = [header[0], header[1]+\"[m/s]\", header[2]+\"[m/s]\", header[3]+\"[m/s]\"]   # Adjust header to save results\n",
    "new_header"
   ]
  },
  {
   "cell_type": "code",
   "execution_count": 29,
   "metadata": {
    "collapsed": false
   },
   "outputs": [],
   "source": [
    "f = \"../data/precision_data_paper2015.txt\"\n",
    "# Need to change datatype to float for the numbers.\n",
    "# Need to remove an extra title in the middle\n",
    "df2.to_csv(f, mode='w', sep=\"\\t\", float_format=\"%03.02f\", header=new_header, index=False)\n"
   ]
  },
  {
   "cell_type": "code",
   "execution_count": 21,
   "metadata": {
    "collapsed": true
   },
   "outputs": [],
   "source": [
    "df2.to_csv?\n",
    "\n"
   ]
  },
  {
   "cell_type": "code",
   "execution_count": 9,
   "metadata": {
    "collapsed": true
   },
   "outputs": [],
   "source": []
  },
  {
   "cell_type": "code",
   "execution_count": null,
   "metadata": {
    "collapsed": false
   },
   "outputs": [],
   "source": []
  },
  {
   "cell_type": "code",
   "execution_count": null,
   "metadata": {
    "collapsed": true
   },
   "outputs": [],
   "source": []
  }
 ],
 "metadata": {
  "anaconda-cloud": {},
  "kernelspec": {
   "display_name": "eniric",
   "language": "python",
   "name": "eniric"
  },
  "language_info": {
   "codemirror_mode": {
    "name": "ipython",
    "version": 3
   },
   "file_extension": ".py",
   "mimetype": "text/x-python",
   "name": "python",
   "nbconvert_exporter": "python",
   "pygments_lexer": "ipython3",
   "version": "3.5.2"
  }
 },
 "nbformat": 4,
 "nbformat_minor": 2
}
